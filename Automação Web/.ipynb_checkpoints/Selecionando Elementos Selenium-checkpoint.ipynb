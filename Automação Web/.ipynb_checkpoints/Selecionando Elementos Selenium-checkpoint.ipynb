{
 "cells": [
  {
   "cell_type": "markdown",
   "id": "367cd714",
   "metadata": {
    "id": "367cd714"
   },
   "source": [
    "### Documentação Selenium:\n",
    "\n",
    "- https://selenium-python.readthedocs.io/locating-elements.html"
   ]
  },
  {
   "cell_type": "code",
   "execution_count": 1,
   "id": "4e28f9f7",
   "metadata": {
    "id": "4e28f9f7",
    "outputId": "f2ebff24-5001-4f7b-bc6d-5b556255c636"
   },
   "outputs": [
    {
     "name": "stdout",
     "output_type": "stream",
     "text": [
      "\n"
     ]
    }
   ],
   "source": [
    "from selenium import webdriver\n",
    "from selenium.webdriver.chrome.service import Service\n",
    "from webdriver_manager.chrome import ChromeDriverManager\n",
    "from selenium.webdriver.common.by import By\n",
    "\n",
    "servico = Service(ChromeDriverManager().install())\n",
    "navegador = webdriver.Chrome(service=servico)"
   ]
  },
  {
   "cell_type": "code",
   "execution_count": 47,
   "id": "d75b3862",
   "metadata": {},
   "outputs": [],
   "source": [
    "navegador.get(\"https://www.hashtagtreinamentos.com/\")"
   ]
  },
  {
   "cell_type": "code",
   "execution_count": 57,
   "id": "59c8398d",
   "metadata": {
    "id": "59c8398d"
   },
   "outputs": [],
   "source": [
    "import os\n",
    "\n",
    "caminho = os.getcwd()\n",
    "arquivo = caminho + r\"\\Pagina Hashtag.html\"\n",
    "navegador.get(arquivo)"
   ]
  },
  {
   "cell_type": "markdown",
   "id": "1206f490",
   "metadata": {},
   "source": [
    "manipular de manipular = id, class_nome, xpath\n",
    "find_element = retorna um unico elemento da sua página (item)\n",
    "find_elements = retorna uma lista com vários itens (lista)"
   ]
  },
  {
   "cell_type": "code",
   "execution_count": 3,
   "id": "ddd81be8",
   "metadata": {},
   "outputs": [],
   "source": [
    "from selenium.webdriver.common.by import By\n",
    "\n",
    "##campo_nome = navegador.find_element(By.ID, 'firstname')\n",
    "##campo_nome.send_keys('toppp')\n",
    "\n",
    "\n",
    "navegador.find_element(By.ID, 'firstname').send_keys('LETICIA')\n",
    "navegador.find_element(By.ID, 'email').send_keys('lelopees@hotmail.com')\n",
    "#navegador.find_element(By.CLASS_NAME, 'botao-formulario').click()"
   ]
  },
  {
   "cell_type": "markdown",
   "id": "7d964ce5",
   "metadata": {
    "id": "7d964ce5"
   },
   "source": [
    "#### Selecionar pela tag\n",
    "\n",
    "- Vamos selecionar o título"
   ]
  },
  {
   "cell_type": "code",
   "execution_count": 6,
   "id": "d99bbc29",
   "metadata": {
    "id": "d99bbc29",
    "outputId": "71c52998-1ed4-4d78-de4d-d437c8d997f7"
   },
   "outputs": [
    {
     "name": "stdout",
     "output_type": "stream",
     "text": [
      "Torne-se uma referência no Mercado de Trabalho com a Hashtag Treinamentos\n"
     ]
    }
   ],
   "source": [
    "titulo = navegador.find_element(By.TAG_NAME, 'h1').text\n",
    "print(titulo)"
   ]
  },
  {
   "cell_type": "markdown",
   "id": "67982790",
   "metadata": {
    "id": "67982790"
   },
   "source": [
    "#### Selecionar pelo Partial Link Text (ou LINK_TEXT)\n",
    "- Quero conseguir pegar o número de whatsapp de contato"
   ]
  },
  {
   "cell_type": "code",
   "execution_count": 10,
   "id": "2c22cd39",
   "metadata": {
    "id": "2c22cd39",
    "outputId": "5ce9802a-9541-405d-dcee-6081556232d3"
   },
   "outputs": [
    {
     "name": "stdout",
     "output_type": "stream",
     "text": [
      "(21) 99865-8852 (WhatsApp)\n",
      "listavip@hashtagtreinamentos.com\n"
     ]
    }
   ],
   "source": [
    "# quando se tem um link no página é possivel usar o partial link text.\n",
    "# PARTIAL_LINK_TEXT = usado quando se tem um pedaço daquele contéudo, e retorna um erro quando não acha.\n",
    "numero_whatsapp = navegador.find_element(By.PARTIAL_LINK_TEXT, 'WhatsApp').text\n",
    "print(numero_whatsapp)\n",
    "\n",
    "email = navegador.find_element(By.PARTIAL_LINK_TEXT, 'listavip').text\n",
    "print(email)"
   ]
  },
  {
   "cell_type": "markdown",
   "id": "b9be7f69",
   "metadata": {
    "id": "b9be7f69"
   },
   "source": [
    "#### Selecionar pelo name\n",
    "- Preencher o formulário"
   ]
  },
  {
   "cell_type": "code",
   "execution_count": 16,
   "id": "d87bb6bd",
   "metadata": {
    "id": "d87bb6bd"
   },
   "outputs": [],
   "source": [
    "navegador.find_element(By.NAME, 'email').send_keys(\"leticia.lopes@gmail.com\")"
   ]
  },
  {
   "cell_type": "markdown",
   "id": "068093a0",
   "metadata": {
    "id": "068093a0"
   },
   "source": [
    "#### Selecionar pelo CSS Selector\n",
    "- Parecido com o XPATH, acaba não usando tanto, mas caso queira, tem uma referência aqui:\n",
    "https://saucelabs.com/resources/articles/selenium-tips-css-selectors"
   ]
  },
  {
   "cell_type": "markdown",
   "id": "6b88802a",
   "metadata": {},
   "source": [
    "### Selecionar vários elementros de uma vez\n",
    "- Vamos selecionar pelo find_elements\n",
    "- Vamos clicar no item Blog do menu"
   ]
  },
  {
   "cell_type": "code",
   "execution_count": 48,
   "id": "5c433534",
   "metadata": {},
   "outputs": [],
   "source": [
    "lista_elementos = navegador.find_elements(By.CLASS_NAME, 'nav-link')\n",
    "for elemento in lista_elementos:\n",
    "    if 'blog' in elemento.text.lower():\n",
    "        elemento.click()\n",
    "        break"
   ]
  },
  {
   "cell_type": "markdown",
   "id": "27cb6cd4",
   "metadata": {},
   "source": [
    "### Pegar informações de um elemento\n",
    "- texto\n",
    "- atributos"
   ]
  },
  {
   "cell_type": "markdown",
   "id": "e48b25d4",
   "metadata": {},
   "source": [
    "Ex1: Link do Whatsapp"
   ]
  },
  {
   "cell_type": "code",
   "execution_count": 51,
   "id": "8b28e63c",
   "metadata": {},
   "outputs": [
    {
     "name": "stdout",
     "output_type": "stream",
     "text": [
      "https://api.whatsapp.com/send?phone=5521998658852&text=Ol%C3%A1%2C%20gostaria%20de%20tirar%20uma%20d%C3%BAvida%20%20sobre%20o%20curso%20online\n"
     ]
    }
   ],
   "source": [
    "texto = navegador.find_element(By.XPATH, '/html/body/footer/div/div/div[1]/div[2]/div[5]/div[2]/a').get_attribute('href')\n",
    "print(texto)"
   ]
  },
  {
   "cell_type": "markdown",
   "id": "3440c915",
   "metadata": {},
   "source": [
    "Ex2: Imagens dos cursos"
   ]
  },
  {
   "cell_type": "code",
   "execution_count": 53,
   "id": "ab7b998a",
   "metadata": {},
   "outputs": [
    {
     "name": "stdout",
     "output_type": "stream",
     "text": [
      "https://www.hashtagtreinamentos.com/experiencia-sem-trabalhar-python\n"
     ]
    }
   ],
   "source": [
    "imagem = navegador.find_element(By.XPATH, '/html/body/div/div[6]/div/div/div[2]/div[1]/div[1]/div[1]/a').get_attribute('href')\n",
    "print(imagem)"
   ]
  },
  {
   "cell_type": "code",
   "execution_count": 55,
   "id": "0a49d836",
   "metadata": {},
   "outputs": [],
   "source": [
    "navegador.get(imagem)"
   ]
  },
  {
   "cell_type": "markdown",
   "id": "14214b5a",
   "metadata": {},
   "source": [
    "### Pegar links da imagens"
   ]
  },
  {
   "cell_type": "code",
   "execution_count": 60,
   "id": "dfb93af7",
   "metadata": {},
   "outputs": [],
   "source": [
    "lista_elementos = navegador.find_elements(By.TAG_NAME, 'figure') # lista de figures\n",
    "for elementos in lista_elementos:\n",
    "    try:\n",
    "        link = elemento.find_element(By.TAG_NAME, 'a').get_attribute('href')\n",
    "        print(link)\n",
    "    except:\n",
    "        continue"
   ]
  }
 ],
 "metadata": {
  "colab": {
   "name": "Selecionando Elementos Selenium.ipynb",
   "provenance": []
  },
  "kernelspec": {
   "display_name": "Python 3 (ipykernel)",
   "language": "python",
   "name": "python3"
  },
  "language_info": {
   "codemirror_mode": {
    "name": "ipython",
    "version": 3
   },
   "file_extension": ".py",
   "mimetype": "text/x-python",
   "name": "python",
   "nbconvert_exporter": "python",
   "pygments_lexer": "ipython3",
   "version": "3.9.7"
  }
 },
 "nbformat": 4,
 "nbformat_minor": 5
}
