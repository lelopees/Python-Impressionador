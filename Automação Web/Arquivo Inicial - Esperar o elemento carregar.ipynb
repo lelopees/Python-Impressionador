{
 "cells": [
  {
   "cell_type": "markdown",
   "id": "e6fa5871",
   "metadata": {},
   "source": [
    "### Esperar o Elemento carregar\n",
    "\n",
    "2 métodos:\n",
    "\n",
    "- WebDriverWait + ExpectedConditions (EC)\n",
    "    - Nativo do Selenium, menos linhas de código\n",
    "    - Já vi dar bug e mais chatinho de lembrar\n",
    "- Loop de espera\n",
    "    - Criação de uma espera \"manual\"\n",
    "    - Nunca abandona"
   ]
  },
  {
   "cell_type": "code",
   "execution_count": null,
   "id": "a240da55",
   "metadata": {},
   "outputs": [],
   "source": [
    "from selenium import webdriver\n",
    "import time\n",
    "\n",
    "driver = webdriver.Chrome()\n",
    "driver.get(\"https://hashtagtreinamentos.com\")\n",
    "\n",
    "time.sleep(15)\n",
    "driver.find_element_by_class_name('eicon-close').click()\n",
    "print('Fechou')"
   ]
  },
  {
   "cell_type": "code",
   "execution_count": null,
   "id": "13792b7b",
   "metadata": {},
   "outputs": [],
   "source": [
    "# WebDriverWait e EC\n",
    "from selenium.webdriver.common.by import By\n",
    "from selenium.webdriver.support.ui import WebDriverWait\n",
    "from selenium.webdriver.support import expected_conditions as EC\n",
    "\n",
    "driver = webdriver.Chrome()\n",
    "driver.get(\"https://hashtagtreinamentos.com\")\n",
    "\n",
    "# pagina e o tempo maximo de limite\n",
    "# ESPERAR ATÉ O ELEMENTO APARECER NA TELA\n",
    "elemento = WebDriverWait(driver, 30).until(EC.presence_of_element_located((By.XPATH, 'eicon-close')))\n",
    "time.sleep(1)\n",
    "elemento.click()\n",
    "\n",
    "print('Fechou')"
   ]
  }
 ],
 "metadata": {
  "kernelspec": {
   "display_name": "Python 3 (ipykernel)",
   "language": "python",
   "name": "python3"
  },
  "language_info": {
   "codemirror_mode": {
    "name": "ipython",
    "version": 3
   },
   "file_extension": ".py",
   "mimetype": "text/x-python",
   "name": "python",
   "nbconvert_exporter": "python",
   "pygments_lexer": "ipython3",
   "version": "3.9.7"
  }
 },
 "nbformat": 4,
 "nbformat_minor": 5
}
