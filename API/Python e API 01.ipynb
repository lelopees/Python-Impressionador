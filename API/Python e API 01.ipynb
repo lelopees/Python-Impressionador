{
 "cells": [
  {
   "cell_type": "markdown",
   "metadata": {},
   "source": [
    "# Python e API\n",
    "\n",
    "### O que é uma API?\n",
    "\n",
    "- É um conjunto de códigos para usar um serviço/site/aplicativo específico. Cada site/ferramenta tem sua própria API. É importante que você saiba ler as APIs que precisar para saber usar\n",
    "\n",
    "- Um dos padrões mais comuns em API é pegar informações em formato json, uma espécie de dicionário que precisa ser tratada no Python para podermos analisar\n",
    "\n",
    "- As possibilidades de API são infinitas, vamos fazer 2 exemplos aqui: Cotação de Moedas e Envio de SMS.\n",
    "\n",
    "- Sites como Google, Youtube, Facebook, Twitter, ArcGis e praticamente qualquer ferramenta/site grande tem uma API.\n",
    "\n",
    "### O que precisamos:\n",
    "\n",
    "- Quase sempre você precisa de uma conta para consumir uma API. Algumas APIs são abertas, como a https://docs.awesomeapi.com.br/api-de-moedas , mas em muitos casos (como veremos no caso do SMS) vamos precisar ter uma conta ativa para consumir a API\n",
    "\n",
    "- A Documentação da API (ou exemplos da internet) é a chave para conseguir usar uma API "
   ]
  },
  {
   "cell_type": "markdown",
   "metadata": {},
   "source": [
    "#### Pegar a Cotação Atual de Todas as Moedas "
   ]
  },
  {
   "cell_type": "code",
   "execution_count": 4,
   "metadata": {},
   "outputs": [
    {
     "name": "stdout",
     "output_type": "stream",
     "text": [
      "<Response [200]>\n",
      "{'USD': {'code': 'USD', 'codein': 'BRL', 'name': 'Dólar Americano/Real Brasileiro', 'high': '4.9317', 'low': '4.8535', 'varBid': '-0.0509', 'pctChange': '-1.03', 'bid': '4.8785', 'ask': '4.8815', 'timestamp': '1653080329', 'create_date': '2022-05-20 17:58:49'}, 'USDT': {'code': 'USD', 'codein': 'BRLT', 'name': 'Dólar Americano/Real Brasileiro Turismo', 'high': '4.94', 'low': '4.885', 'varBid': '-0.04', 'pctChange': '-0.81', 'bid': '4.75', 'ask': '5.04', 'timestamp': '1653075540', 'create_date': '2022-05-20 16:39:00'}, 'CAD': {'code': 'CAD', 'codein': 'BRL', 'name': 'Dólar Canadense/Real Brasileiro', 'high': '3.8601', 'low': '3.7814', 'varBid': '-0.0436', 'pctChange': '-1.13', 'bid': '3.7999', 'ask': '3.8019', 'timestamp': '1653080395', 'create_date': '2022-05-20 17:59:55'}, 'EUR': {'code': 'EUR', 'codein': 'BRL', 'name': 'Euro/Real Brasileiro', 'high': '5.2269', 'low': '5.1234', 'varBid': '-0.0699', 'pctChange': '-1.34', 'bid': '5.1496', 'ask': '5.1529', 'timestamp': '1653080331', 'create_date': '2022-05-20 17:58:51'}, 'GBP': {'code': 'GBP', 'codein': 'BRL', 'name': 'Libra Esterlina/Real Brasileiro', 'high': '6.1624', 'low': '6.0576', 'varBid': '-0.0512', 'pctChange': '-0.83', 'bid': '6.0917', 'ask': '6.0957', 'timestamp': '1653080398', 'create_date': '2022-05-20 17:59:58'}, 'ARS': {'code': 'ARS', 'codein': 'BRL', 'name': 'Peso Argentino/Real Brasileiro', 'high': '0.0421', 'low': '0.041', 'varBid': '-0.0005', 'pctChange': '-1.2', 'bid': '0.0412', 'ask': '0.0412', 'timestamp': '1653080395', 'create_date': '2022-05-20 17:59:55'}, 'BTC': {'code': 'BTC', 'codein': 'BRL', 'name': 'Bitcoin/Real Brasileiro', 'high': '145.261', 'low': '140.93', 'varBid': '950', 'pctChange': '0.66', 'bid': '145.213', 'ask': '145.261', 'timestamp': '1653148739', 'create_date': '2022-05-21 12:58:59'}, 'LTC': {'code': 'LTC', 'codein': 'BRL', 'name': 'Litecoin/Real Brasileiro', 'high': '345.16', 'low': '327.36', 'varBid': '8.53', 'pctChange': '2.55', 'bid': '343.53', 'ask': '345.27', 'timestamp': '1653148711', 'create_date': '2022-05-21 12:58:31'}, 'JPY': {'code': 'JPY', 'codein': 'BRL', 'name': 'Iene Japonês/Real Brasileiro', 'high': '0.03865', 'low': '0.03792', 'varBid': '-0.0004', 'pctChange': '-1.04', 'bid': '0.03817', 'ask': '0.03819', 'timestamp': '1653080385', 'create_date': '2022-05-20 17:59:45'}, 'CHF': {'code': 'CHF', 'codein': 'BRL', 'name': 'Franco Suíço/Real Brasileiro', 'high': '5.0871', 'low': '4.978', 'varBid': '-0.0607', 'pctChange': '-1.2', 'bid': '5.0044', 'ask': '5.0082', 'timestamp': '1653080393', 'create_date': '2022-05-20 17:59:53'}, 'AUD': {'code': 'AUD', 'codein': 'BRL', 'name': 'Dólar Australiano/Real Brasileiro', 'high': '3.4883', 'low': '3.41', 'varBid': '-0.0426', 'pctChange': '-1.23', 'bid': '3.4317', 'ask': '3.4339', 'timestamp': '1653080398', 'create_date': '2022-05-20 17:59:58'}, 'CNY': {'code': 'CNY', 'codein': 'BRL', 'name': 'Yuan Chinês/Real Brasileiro', 'high': '0.7395', 'low': '0.7252', 'varBid': '-0.0061', 'pctChange': '-0.83', 'bid': '0.7292', 'ask': '0.7295', 'timestamp': '1653080342', 'create_date': '2022-05-20 17:59:02'}, 'ILS': {'code': 'ILS', 'codein': 'BRL', 'name': 'Novo Shekel Israelense/Real Brasileiro', 'high': '1.4776', 'low': '1.4402', 'varBid': '-0.0148', 'pctChange': '-1.01', 'bid': '1.4523', 'ask': '1.4529', 'timestamp': '1653080343', 'create_date': '2022-05-20 17:59:03'}, 'ETH': {'code': 'ETH', 'codein': 'BRL', 'name': 'Ethereum/Real Brasileiro', 'high': '9.745', 'low': '9.41252', 'varBid': '-14.76', 'pctChange': '-0.15', 'bid': '9.69821', 'ask': '9.73347', 'timestamp': '1653148740', 'create_date': '2022-05-21 12:59:00'}, 'XRP': {'code': 'XRP', 'codein': 'BRL', 'name': 'XRP/Real Brasileiro', 'high': '2.05', 'low': '1.98', 'varBid': '0', 'pctChange': '0.01', 'bid': '2.04', 'ask': '2.05', 'timestamp': '1653148738', 'create_date': '2022-05-21 12:58:58'}, 'DOGE': {'code': 'DOGE', 'codein': 'BRL', 'name': 'Dogecoin/Real Brasileiro', 'high': '0.418026', 'low': '0.403863', 'varBid': '0.01039', 'pctChange': '2.55', 'bid': '0.417812', 'ask': '0.417812', 'timestamp': '1653148662', 'create_date': '2022-05-21 12:57:42'}}\n"
     ]
    }
   ],
   "source": [
    "import requests\n",
    "import json\n",
    "\n",
    "cotacoes = requests.get('https://economia.awesomeapi.com.br/json/all')\n",
    "print(cotacoes)\n",
    "\n",
    "# transforma o json em dicionário (json é um dicionário de forma diferente do python, mas é um dicionário)\n",
    "cotacoes_dic = cotacoes.json()\n",
    "print(cotacoes_dic)\n",
    "\n",
    "print('Dólar: {}')"
   ]
  },
  {
   "cell_type": "markdown",
   "metadata": {},
   "source": [
    "#### Qual foi a última cotação do Dólar, do Euro e do BitCoin? (Sua resposta vai dar diferente do gabarito, porque estamos rodando o código em momentos diferentes, mas o seu código deve ser o mesmo/parecido)"
   ]
  },
  {
   "cell_type": "code",
   "execution_count": 32,
   "metadata": {},
   "outputs": [
    {
     "name": "stdout",
     "output_type": "stream",
     "text": [
      "USD - Dólar Americano/Real Brasileiro é de 4.9317\n",
      "USDT - Dólar Americano/Real Brasileiro Turismo é de 4.94\n",
      "CAD - Dólar Canadense/Real Brasileiro é de 3.8601\n",
      "EUR - Euro/Real Brasileiro é de 5.2269\n",
      "GBP - Libra Esterlina/Real Brasileiro é de 6.1624\n",
      "ARS - Peso Argentino/Real Brasileiro é de 0.0421\n",
      "BTC - Bitcoin/Real Brasileiro é de 145.261\n",
      "LTC - Litecoin/Real Brasileiro é de 345.16\n",
      "JPY - Iene Japonês/Real Brasileiro é de 0.03865\n",
      "CHF - Franco Suíço/Real Brasileiro é de 5.0871\n",
      "AUD - Dólar Australiano/Real Brasileiro é de 3.4883\n",
      "CNY - Yuan Chinês/Real Brasileiro é de 0.7395\n",
      "ILS - Novo Shekel Israelense/Real Brasileiro é de 1.4776\n",
      "ETH - Ethereum/Real Brasileiro é de 9.745\n",
      "XRP - XRP/Real Brasileiro é de 2.05\n",
      "DOGE - Dogecoin/Real Brasileiro é de 0.418026\n",
      "\n",
      "Dolár é de 4.8785\n",
      "\n",
      "Euro é de 5.1496\n",
      "\n",
      "Bitcoin é de 145.213\n"
     ]
    }
   ],
   "source": [
    "for diccotacao in cotacoes_dic:\n",
    "    print('{} - {} é de {}' .format(diccotacao, cotacoes_dic[diccotacao]['name'], cotacoes_dic[diccotacao]['high']))\n",
    "    \n",
    "print('\\nDolár é de {}'.format(cotacoes_dic['USD']['bid']))\n",
    "print('\\nEuro é de {}'.format(cotacoes_dic['EUR']['bid']))\n",
    "print('\\nBitcoin é de {}'.format(cotacoes_dic['BTC']['bid']))"
   ]
  },
  {
   "cell_type": "markdown",
   "metadata": {},
   "source": [
    "#### Pegar a cotação dos últimos 30 dias do dólar (Sua resposta vai dar diferente do gabarito, porque estamos rodando o código em momentos diferentes, mas o seu código deve ser o mesmo/parecido)"
   ]
  },
  {
   "cell_type": "code",
   "execution_count": 68,
   "metadata": {},
   "outputs": [
    {
     "name": "stdout",
     "output_type": "stream",
     "text": [
      "[4.8785, 4.931, 4.9685, 4.9387, 5.0606, 5.0588, 5.1342, 5.14, 5.1333, 5.1611, 5.0776, 5.0791, 5.0804, 5.0435, 4.9198, 4.9614, 5.0849, 4.9733, 4.9397, 4.9674, 4.999, 4.8774, 4.795, 4.622, 4.6224, 4.6658, 4.6528, 4.6965, 4.6965, 4.7013]\n"
     ]
    }
   ],
   "source": [
    "cotacao_30dias = requests.get('https://economia.awesomeapi.com.br/json/daily/USD-BRL/30')\n",
    "cotacao_30dias_dic = cotacao_30dias.json()\n",
    "\n",
    "#print(cotacao_30dias_dic)\n",
    "#print(cotacao_30dias_dic[0]['bid'])\n",
    "#print(cotacao_30dias_dic[1]['bid'])\n",
    "\n",
    "lista_cotacoes_30 = [float(item['bid']) for item in cotacao_30dias_dic]\n",
    "print(lista_cotacoes_30)\n",
    "\n",
    "#for i, dias in enumerate(cotacao_30dias_dic):\n",
    " #   print(cotacao_30dias_dic[i]['bid'])\n",
    "\n",
    "#for item in cotacao_30dias_dic:\n",
    " #   print(item['bid'])\n"
   ]
  },
  {
   "cell_type": "markdown",
   "metadata": {},
   "source": [
    "#### Pegar as cotações do BitCoin de Jan/20 a Out/20"
   ]
  },
  {
   "cell_type": "code",
   "execution_count": 104,
   "metadata": {},
   "outputs": [
    {
     "name": "stdout",
     "output_type": "stream",
     "text": [
      "[217.842, 215.9, 218.0, 215.993, 213.025, 205.401, 208.521, 200.711, 202.882, 200.638, 187.27, 189.366, 194.343, 188.884, 191.721, 191.719, 188.05, 190.949, 194.746, 192.54, 188.792, 191.62, 190.509, 190.606, 197.622, 191.12, 195.346, 197.312, 192.795, 188.645, 192.293, 195.355, 188.256, 195.505, 185.115, 184.1, 181.907, 175.173, 157.15, 160.658, 149.904, 150.194, 149.469, 154.052, 159.962, 152.0, 151.288, 143.8, 150.384, 143.8, 145.181]\n",
      "51\n"
     ]
    }
   ],
   "source": [
    "cotacoes_btc = requests.get('https://economia.awesomeapi.com.br/json/daily/BTC-BRL/200?start_date=20220401&end_date=20220521')\n",
    "cotacoes_btc_dic = cotacoes_btc.json()\n",
    "lista_cotacoes_btc = [float(item['bid']) for item in cotacoes_btc_dic]\n",
    "lista_cotacoes_btc.reverse()\n",
    "print(lista_cotacoes_btc)\n",
    "print(len(lista_cotacoes_btc))"
   ]
  },
  {
   "cell_type": "markdown",
   "metadata": {},
   "source": [
    "#### Gráfico com as cotações do BitCoin"
   ]
  },
  {
   "cell_type": "code",
   "execution_count": 105,
   "metadata": {},
   "outputs": [
    {
     "data": {
      "image/png": "[encoded data removed]",
      "text/plain": [
       "<Figure size 1080x360 with 1 Axes>"
      ]
     },
     "metadata": {
      "needs_background": "light"
     },
     "output_type": "display_data"
    }
   ],
   "source": [
    "import matplotlib.pyplot as plt\n",
    "\n",
    "plt.figure(figsize=(15,5))\n",
    "plt.plot(lista_cotacoes_btc)\n",
    "plt.show()"
   ]
  }
 ],
 "metadata": {
  "kernelspec": {
   "display_name": "Python 3 (ipykernel)",
   "language": "python",
   "name": "python3"
  },
  "language_info": {
   "codemirror_mode": {
    "name": "ipython",
    "version": 3
   },
   "file_extension": ".py",
   "mimetype": "text/x-python",
   "name": "python",
   "nbconvert_exporter": "python",
   "pygments_lexer": "ipython3",
   "version": "3.9.7"
  }
 },
 "nbformat": 4,
 "nbformat_minor": 4
}
