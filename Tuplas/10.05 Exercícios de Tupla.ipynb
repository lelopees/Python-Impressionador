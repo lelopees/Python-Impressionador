{
 "cells": [
  {
   "cell_type": "markdown",
   "metadata": {},
   "source": [
    "# Exercícios\n",
    "\n",
    "São exercícios bem parecidos com os que fizemos com listas. Mas na tupla, podemos não só trabalhar com índices, mas fazer o \"unpacking\" das tuplas, o que pode facilitar nossos códigos.\n",
    "\n",
    "## 1. Análise de Vendas\n",
    "\n",
    "Nesse exercício vamos fazer uma \"análise simples\" de atingimento de Meta.\n",
    "\n",
    "Temos uma lista com os vendedores e os valores de vendas e queremos identificar (printar) quais os vendedores que bateram a meta e qual foi o valor que eles venderam."
   ]
  },
  {
   "cell_type": "code",
   "execution_count": 4,
   "metadata": {},
   "outputs": [
    {
     "name": "stdout",
     "output_type": "stream",
     "text": [
      "O funcionário João vendeu 15000\n",
      "O funcionário Julia vendeu 27000\n",
      "O funcionário Ana vendeu 10300\n"
     ]
    }
   ],
   "source": [
    "meta = 10000\n",
    "vendas = [\n",
    "    ('João', 15000),\n",
    "    ('Julia', 27000),\n",
    "    ('Marcus', 9900),\n",
    "    ('Maria', 3750),\n",
    "    ('Ana', 10300),\n",
    "    ('Alon', 7870),\n",
    "]\n",
    "\n",
    "\n",
    "for nome, valor_vendas in vendas:\n",
    "    if valor_vendas >= meta:\n",
    "        print('O funcionário {} vendeu {}'. format(nome, valor_vendas))\n",
    "  "
   ]
  },
  {
   "cell_type": "markdown",
   "metadata": {},
   "source": [
    "## 2. Comparação com Ano Anterior\n",
    "\n",
    "Digamos que você está analisando as vendas de produtos de um ecommerce e quer identificar quais produtos tiveram no ano de 2020 mais vendas do que no ano de 2019, para reportar isso para a diretoria.\n",
    "\n",
    "Sua resposta pode ser um print de cada produto, qual foi a venda de 2019, a venda de 2020 e o % de crescimento de 2020 para 2019.\n",
    "\n",
    "Lembrando, para calcular o % de crescimento de um produto de um ano para o outro, podemos fazer: (vendas_produto2020/vendas_produto2019 - 1)\n",
    "\n",
    "A lógica da tupla é: (produto, vendas2019, vendas2020)"
   ]
  },
  {
   "cell_type": "code",
   "execution_count": 11,
   "metadata": {},
   "outputs": [
    {
     "name": "stdout",
     "output_type": "stream",
     "text": [
      "O produto iphone vendeu em 2019: 558,147 e 2020: 951,642. Com o crescimento de 70.5%\n",
      "O produto galaxy vendeu em 2019: 712,350 e 2020: 244,295. Com o crescimento de -65.7%\n",
      "O produto ipad vendeu em 2019: 573,823 e 2020: 26,964. Com o crescimento de -95.3%\n",
      "O produto tv vendeu em 2019: 405,252 e 2020: 787,604. Com o crescimento de 94.3%\n",
      "O produto máquina de café vendeu em 2019: 718,654 e 2020: 867,660. Com o crescimento de 20.7%\n",
      "O produto kindle vendeu em 2019: 531,580 e 2020: 78,830. Com o crescimento de -85.2%\n",
      "O produto geladeira vendeu em 2019: 973,139 e 2020: 710,331. Com o crescimento de -27.0%\n",
      "O produto adega vendeu em 2019: 892,292 e 2020: 646,016. Com o crescimento de -27.6%\n",
      "O produto notebook dell vendeu em 2019: 422,760 e 2020: 694,913. Com o crescimento de 64.4%\n",
      "O produto notebook hp vendeu em 2019: 154,753 e 2020: 539,704. Com o crescimento de 248.8%\n",
      "O produto notebook asus vendeu em 2019: 887,061 e 2020: 324,831. Com o crescimento de -63.4%\n",
      "O produto microsoft surface vendeu em 2019: 438,508 e 2020: 667,179. Com o crescimento de 52.1%\n",
      "O produto webcam vendeu em 2019: 237,467 e 2020: 295,633. Com o crescimento de 24.5%\n",
      "O produto caixa de som vendeu em 2019: 489,705 e 2020: 725,316. Com o crescimento de 48.1%\n",
      "O produto microfone vendeu em 2019: 328,311 e 2020: 644,622. Com o crescimento de 96.3%\n",
      "O produto câmera canon vendeu em 2019: 591,120 e 2020: 994,303. Com o crescimento de 68.2%\n"
     ]
    }
   ],
   "source": [
    "vendas_produtos = [('iphone', 558147, 951642), ('galaxy', 712350, 244295), ('ipad', 573823, 26964), ('tv', 405252, 787604), ('máquina de café', 718654, 867660), ('kindle', 531580, 78830), ('geladeira', 973139, 710331), ('adega', 892292, 646016), ('notebook dell', 422760, 694913), ('notebook hp', 154753, 539704), ('notebook asus', 887061, 324831), ('microsoft surface', 438508, 667179), ('webcam', 237467, 295633), ('caixa de som', 489705, 725316), ('microfone', 328311, 644622), ('câmera canon', 591120, 994303)]\n",
    "\n",
    "#seu código aqui\n",
    "\n",
    "for prod, vend_19, vend_20 in vendas_produtos:\n",
    "    crescimento =(vend_20 / vend_19 - 1)\n",
    "    print('O produto {} vendeu em 2019: {:,} e 2020: {:,}. Com o crescimento de {:.1%}'.format(prod, vend_19,vend_20, crescimento))\n",
    "\n"
   ]
  }
 ],
 "metadata": {
  "kernelspec": {
   "display_name": "Python 3 (ipykernel)",
   "language": "python",
   "name": "python3"
  },
  "language_info": {
   "codemirror_mode": {
    "name": "ipython",
    "version": 3
   },
   "file_extension": ".py",
   "mimetype": "text/x-python",
   "name": "python",
   "nbconvert_exporter": "python",
   "pygments_lexer": "ipython3",
   "version": "3.9.7"
  }
 },
 "nbformat": 4,
 "nbformat_minor": 4
}
