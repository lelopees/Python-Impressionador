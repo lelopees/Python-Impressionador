{
 "cells": [
  {
   "cell_type": "code",
   "execution_count": 32,
   "id": "b51c116c",
   "metadata": {},
   "outputs": [
    {
     "name": "stdout",
     "output_type": "stream",
     "text": [
      "20\n",
      "7\n",
      "m\n",
      "hotmail.com\n",
      "Tamanho do e-mail 20 caracteres\n",
      "Primeiro caracterel\n",
      "Ultimo caracterem\n",
      "Servidor do email hotmail\n"
     ]
    }
   ],
   "source": [
    "email = 'lelopees@hotmail.com'\n",
    "nome = 'leticia'\n",
    "\n",
    "print(len(email))\n",
    "print(len(nome))\n",
    "\n",
    "print(email[-1])\n",
    "\n",
    "print(email[9:])\n",
    "\n",
    "print('Tamanho do e-mail ' + str(len(email)) + ' caracteres')\n",
    "print('Primeiro caractere' + email[0])\n",
    "print('Ultimo caractere' + email[-1])\n",
    "print('Servidor do email ' + email[9:16])"
   ]
  }
 ],
 "metadata": {
  "kernelspec": {
   "display_name": "Python 3 (ipykernel)",
   "language": "python",
   "name": "python3"
  },
  "language_info": {
   "codemirror_mode": {
    "name": "ipython",
    "version": 3
   },
   "file_extension": ".py",
   "mimetype": "text/x-python",
   "name": "python",
   "nbconvert_exporter": "python",
   "pygments_lexer": "ipython3",
   "version": "3.9.7"
  }
 },
 "nbformat": 4,
 "nbformat_minor": 5
}
