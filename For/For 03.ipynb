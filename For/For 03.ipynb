{
 "cells": [
  {
   "cell_type": "markdown",
   "metadata": {},
   "source": [
    "# for + if\n",
    "\n",
    "### Estrutura:"
   ]
  },
  {
   "cell_type": "raw",
   "metadata": {},
   "source": [
    "for item in lista:\n",
    "    if condicao:\n",
    "        faça alguma coisa\n",
    "    else:\n",
    "        outra coisa"
   ]
  },
  {
   "cell_type": "markdown",
   "metadata": {},
   "source": [
    "Digamos que a gente esteja analisando a meta de vendas de vários funcionários de uma empresa. A meta de vendas é de 1000 reais em 1 dia.\n",
    "\n",
    "Temos uma lista com as vendas de todos os funcionários e quero calcular qual o % de pessoas que bateram a meta."
   ]
  },
  {
   "cell_type": "code",
   "execution_count": 16,
   "metadata": {},
   "outputs": [
    {
     "name": "stdout",
     "output_type": "stream",
     "text": [
      "Bateu a meta: 1200\n",
      "Bateu a meta: 1500\n",
      "Bateu a meta: 1900\n",
      "Bateu a meta: 2750\n",
      "Bateu a meta: 1100\n",
      "Bateu a meta: 1111\n",
      "6 iten(s) foram maiores que a meta\n",
      "O percentual é de 26.09%\n"
     ]
    }
   ],
   "source": [
    "vendas = [1200, 300, 800, 1500, 1900, 2750, 400, 20, 23, 70, 90, 80, 1100, 999, 900, 880, 870, 50, 1111, 120, 300, 450, 800]\n",
    "meta = 1000\n",
    "\n",
    "cont = 0\n",
    "for v in vendas:\n",
    "    if v >= meta: \n",
    "        cont += 1\n",
    "        print('Bateu a meta: {}'.format(v))\n",
    "    else: \n",
    "        pass\n",
    "        #print('NÃO bateu a meta {}'. format(v))\n",
    "print('{} iten(s) foram maiores que a meta'. format(cont))\n",
    "\n",
    "qtde_func  = len(vendas)\n",
    "\n",
    "print('O percentual é de {:.2%}'.format(cont / qtde_func))"
   ]
  }
 ],
 "metadata": {
  "kernelspec": {
   "display_name": "Python 3 (ipykernel)",
   "language": "python",
   "name": "python3"
  },
  "language_info": {
   "codemirror_mode": {
    "name": "ipython",
    "version": 3
   },
   "file_extension": ".py",
   "mimetype": "text/x-python",
   "name": "python",
   "nbconvert_exporter": "python",
   "pygments_lexer": "ipython3",
   "version": "3.9.7"
  }
 },
 "nbformat": 4,
 "nbformat_minor": 4
}
