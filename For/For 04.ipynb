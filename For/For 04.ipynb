{
 "cells": [
  {
   "cell_type": "markdown",
   "metadata": {},
   "source": [
    "# Enumerate\n",
    "\n",
    "### Estrutura:\n",
    "\n",
    "O enumerate permite que você percorra uma lista e ao mesmo tempo tenha em uma variável o índice daquele item.\n",
    "\n",
    "- for normalmente"
   ]
  },
  {
   "cell_type": "raw",
   "metadata": {},
   "source": [
    "for item in lista:\n",
    "    resto do código"
   ]
  },
  {
   "cell_type": "code",
   "execution_count": 1,
   "metadata": {},
   "outputs": [
    {
     "name": "stdout",
     "output_type": "stream",
     "text": [
      "Maria\n",
      "José\n",
      "Antônio\n",
      "João\n",
      "Francisco\n",
      "Ana\n",
      "Luiz\n",
      "Paulo\n",
      "Carlos\n",
      "Manoel\n",
      "Pedro\n",
      "Francisca\n",
      "Marcos\n",
      "Raimundo\n",
      "Sebastião\n",
      "Antônia\n",
      "Marcelo\n",
      "Jorge\n",
      "Márcia\n",
      "Geraldo\n",
      "Adriana\n",
      "Sandra\n",
      "Luis\n"
     ]
    }
   ],
   "source": [
    "funcionarios = ['Maria', 'José', 'Antônio', 'João', 'Francisco', 'Ana', 'Luiz', 'Paulo', 'Carlos', 'Manoel', 'Pedro', 'Francisca', 'Marcos', 'Raimundo', 'Sebastião', 'Antônia', 'Marcelo', 'Jorge', 'Márcia', 'Geraldo', 'Adriana', 'Sandra', 'Luis']\n",
    "for funcionario in funcionarios:\n",
    "    print(funcionario)"
   ]
  },
  {
   "cell_type": "raw",
   "metadata": {},
   "source": [
    "for i, item in enumerate(lista):\n",
    "    resto do código"
   ]
  },
  {
   "cell_type": "code",
   "execution_count": 2,
   "metadata": {
    "scrolled": false
   },
   "outputs": [
    {
     "name": "stdout",
     "output_type": "stream",
     "text": [
      "0 é o funcionário Maria\n",
      "1 é o funcionário José\n",
      "2 é o funcionário Antônio\n",
      "3 é o funcionário João\n",
      "4 é o funcionário Francisco\n",
      "5 é o funcionário Ana\n",
      "6 é o funcionário Luiz\n",
      "7 é o funcionário Paulo\n",
      "8 é o funcionário Carlos\n",
      "9 é o funcionário Manoel\n",
      "10 é o funcionário Pedro\n",
      "11 é o funcionário Francisca\n",
      "12 é o funcionário Marcos\n",
      "13 é o funcionário Raimundo\n",
      "14 é o funcionário Sebastião\n",
      "15 é o funcionário Antônia\n",
      "16 é o funcionário Marcelo\n",
      "17 é o funcionário Jorge\n",
      "18 é o funcionário Márcia\n",
      "19 é o funcionário Geraldo\n",
      "20 é o funcionário Adriana\n",
      "21 é o funcionário Sandra\n",
      "22 é o funcionário Luis\n"
     ]
    }
   ],
   "source": [
    "funcionarios = ['Maria', 'José', 'Antônio', 'João', 'Francisco', 'Ana', 'Luiz', 'Paulo', 'Carlos', 'Manoel', 'Pedro', 'Francisca', 'Marcos', 'Raimundo', 'Sebastião', 'Antônia', 'Marcelo', 'Jorge', 'Márcia', 'Geraldo', 'Adriana', 'Sandra', 'Luis']\n",
    "\n",
    "#i = index\n",
    "#funcionario = item\n",
    "\n",
    "for i, funcionario in enumerate(funcionarios):\n",
    "    print('{} é o funcionário {}'.format(i, funcionario))\n",
    "    #print(i)\n",
    "    #print(funcionario)"
   ]
  },
  {
   "cell_type": "markdown",
   "metadata": {},
   "source": [
    "### Exemplo Prático\n",
    "\n",
    "Vamos pegar um exemplo de nível mínimo de estoque. Em uma fábrica você tem vários produtos e não pode deixar que os produtos fiquem em falta. Para isso, foi definido uma quantidade mínima de estoque que os produtos precisam ter:\n",
    "\n",
    "Identifique quais produtos estão abaixo do nível mínimo de estoque."
   ]
  },
  {
   "cell_type": "code",
   "execution_count": 3,
   "metadata": {},
   "outputs": [
    {
     "name": "stdout",
     "output_type": "stream",
     "text": [
      "Informe o estoque minimo 100\n",
      "TUDO CERTO! Para o produto coca com o estoque de 1200\n",
      "TUDO CERTO! Para o produto pepsi com o estoque de 300\n",
      "TUDO CERTO! Para o produto guarana com o estoque de 800\n",
      "TUDO CERTO! Para o produto skol com o estoque de 1500\n",
      "TUDO CERTO! Para o produto brahma com o estoque de 1900\n",
      "TUDO CERTO! Para o produto agua com o estoque de 2750\n",
      "TUDO CERTO! Para o produto del valle com o estoque de 400\n",
      "DOLLY NÃO ATINGIU O MINIMO, atingiu 20\n",
      "RED BULL NÃO ATINGIU O MINIMO, atingiu 23\n",
      "CACHAÇA NÃO ATINGIU O MINIMO, atingiu 70\n",
      "VINHO TINTO NÃO ATINGIU O MINIMO, atingiu 90\n",
      "VODKA NÃO ATINGIU O MINIMO, atingiu 80\n",
      "TUDO CERTO! Para o produto vinho branco com o estoque de 1100\n",
      "TUDO CERTO! Para o produto tequila com o estoque de 999\n",
      "TUDO CERTO! Para o produto champagne com o estoque de 900\n",
      "TUDO CERTO! Para o produto gin com o estoque de 880\n",
      "TUDO CERTO! Para o produto guaracamp com o estoque de 870\n",
      "MATTE NÃO ATINGIU O MINIMO, atingiu 50\n",
      "TUDO CERTO! Para o produto leite de castanha com o estoque de 1111\n",
      "TUDO CERTO! Para o produto leite com o estoque de 120\n",
      "TUDO CERTO! Para o produto jurupinga com o estoque de 300\n",
      "TUDO CERTO! Para o produto sprite com o estoque de 450\n",
      "TUDO CERTO! Para o produto fanta com o estoque de 800\n"
     ]
    }
   ],
   "source": [
    "estoque = [1200, 300, 800, 1500, 1900, 2750, 400, 20, 23, 70, 90, 80, 1100, 999, 900, 880, 870, 50, 1111, 120, 300, 450, 800]\n",
    "produtos = ['coca', 'pepsi', 'guarana', 'skol', 'brahma', 'agua', 'del valle', 'dolly', 'red bull', 'cachaça', 'vinho tinto', 'vodka', 'vinho branco', 'tequila', 'champagne', 'gin', 'guaracamp', 'matte', 'leite de castanha', 'leite', 'jurupinga', 'sprite', 'fanta']\n",
    "nivel_minimo = int(input('Informe o estoque minimo '))\n",
    "#nivel_minimo = 50\n",
    "\n",
    "for i, prod in enumerate(produtos):\n",
    "   # print(prod)\n",
    "    #print(i)\n",
    "   # print(estoque[i])\n",
    "    \n",
    "    if estoque[i] >= nivel_minimo:\n",
    "        print('TUDO CERTO! Para o produto {} com o estoque de {}'. format(prod, estoque[i]))\n",
    "    else:\n",
    "      #  prod = prod.upper() \n",
    "        print('{} NÃO ATINGIU O MINIMO, atingiu {}'. format(prod.upper(), estoque[i]))\n",
    "\n",
    "\n",
    "\n"
   ]
  }
 ],
 "metadata": {
  "kernelspec": {
   "display_name": "Python 3 (ipykernel)",
   "language": "python",
   "name": "python3"
  },
  "language_info": {
   "codemirror_mode": {
    "name": "ipython",
    "version": 3
   },
   "file_extension": ".py",
   "mimetype": "text/x-python",
   "name": "python",
   "nbconvert_exporter": "python",
   "pygments_lexer": "ipython3",
   "version": "3.9.7"
  }
 },
 "nbformat": 4,
 "nbformat_minor": 4
}
