{
 "cells": [
  {
   "cell_type": "markdown",
   "metadata": {},
   "source": [
    "# Exercícios\n",
    "\n",
    "## 1. Criando um Registro de Hóspedes\n",
    "\n",
    "Digamos que você está criando o sistema para registrar a chegada de hóspedes em um hotel. No hotel, os hóspedes podem ter quartos com 1, 2, 3 e 4 pessoas. Seu sistema deve conseguir:\n",
    "\n",
    "1. Identificar quantas pessoas o hóspede que acabou de chegar vai ter no quarto (perguntando por meio de input)\n",
    "2. De acordo com a quantidade de pessoas do hóspede, ele deve fazer um for para perguntar o cpf e o nome de cada pessoa, a fim de registrá-la no quarto (2 inputs para cada pessoa, 1 para o cpf e outro para o nome)\n",
    "3. O seu programa então deve gerar uma lista com todas as pessoas que ficarão no quarto em que cada item dessa lista é o nome da pessoa e o cpf da pessoa, assim:"
   ]
  },
  {
   "cell_type": "raw",
   "metadata": {},
   "source": [
    "qtde_pessoas = input('I')"
   ]
  },
  {
   "cell_type": "markdown",
   "metadata": {},
   "source": [
    "- Para simplificar, não vamos nos preocupar com possibilidades de \"tentar colocar mais de 1 hóspede, digitar o cpf errado, etc. Nosso objetivo é treinar a criação de uma rotina de cadastro"
   ]
  },
  {
   "cell_type": "code",
   "execution_count": 5,
   "metadata": {},
   "outputs": [
    {
     "name": "stdout",
     "output_type": "stream",
     "text": [
      "Insira a quantidade de pessoas0\n",
      "[]\n"
     ]
    }
   ],
   "source": [
    "#seu código aqui\n",
    "qtde_pessoas = int(input('Insira a quantidade de pessoas'))\n",
    "lista = []\n",
    "\n",
    "if qtde_pessoas <= 4:\n",
    "    for i in range(qtde_pessoas):        \n",
    "        nome = input('Nome do hospede')\n",
    "        cpf = int(input('Numero do cpf'))\n",
    "        \n",
    "        hospede = [nome, cpf]\n",
    "        lista.append(hospede)\n",
    "        \n",
    "print(lista)\n"
   ]
  },
  {
   "cell_type": "markdown",
   "metadata": {},
   "source": [
    "## 2. Análise de Vendas\n",
    "\n",
    "Nesse exercício vamos fazer uma \"análise simples\" de atingimento de Meta.\n",
    "\n",
    "Temos uma lista com os vendedores e os valores de vendas e queremos identificar (printar) quais os vendedores que bateram a meta e qual foi o valor que eles venderam."
   ]
  },
  {
   "cell_type": "code",
   "execution_count": 9,
   "metadata": {},
   "outputs": [
    {
     "name": "stdout",
     "output_type": "stream",
     "text": [
      "Vendedor João bateu a meta. Fez 15000 vendas\n",
      "Vendedor Julia bateu a meta. Fez 27000 vendas\n",
      "Vendedor Ana bateu a meta. Fez 10300 vendas\n"
     ]
    }
   ],
   "source": [
    "meta = 10000\n",
    "vendas = [\n",
    "    ['João', 15000],\n",
    "    ['Julia', 27000],\n",
    "    ['Marcus', 9900],\n",
    "    ['Maria', 3750],\n",
    "    ['Ana', 10300],\n",
    "    ['Alon', 7870],\n",
    "]\n",
    "#seu código aqui\n",
    "for item in vendas:\n",
    "    if item[1] >= meta:\n",
    "        print('Vendedor {} bateu a meta. Fez {} vendas'.format(item[0], item[1]))\n",
    "\n"
   ]
  },
  {
   "cell_type": "markdown",
   "metadata": {},
   "source": [
    "## 3. Comparação com Ano Anterior\n",
    "\n",
    "Digamos que você está analisando as vendas de produtos de um ecommerce e quer identificar quais produtos tiveram no ano de 2020 mais vendas do que no ano de 2019, para reportar isso para a diretoria.\n",
    "\n",
    "Sua resposta pode ser um print de cada produto, qual foi a venda de 2019, a venda de 2020 e o % de crescimento de 2020 para 2019.\n",
    "\n",
    "Lembrando, para calcular o % de crescimento de um produto de um ano para o outro, podemos fazer: (vendas_produto2020/vendas_produto2019 - 1)\n",
    "\n",
    "Dica: lembre do enumerate, ele pode facilitar seu \"for\""
   ]
  },
  {
   "cell_type": "code",
   "execution_count": 40,
   "metadata": {},
   "outputs": [
    {
     "name": "stdout",
     "output_type": "stream",
     "text": [
      "O produto iphone vendeu em 2019: R$558,147 e em 2020: R$951,642. O crescimento foi de 70.5%\n",
      "O produto tv vendeu em 2019: R$405,252 e em 2020: R$787,604. O crescimento foi de 94.3%\n",
      "O produto máquina de café vendeu em 2019: R$718,654 e em 2020: R$867,660. O crescimento foi de 20.7%\n",
      "O produto notebook dell vendeu em 2019: R$422,760 e em 2020: R$694,913. O crescimento foi de 64.4%\n",
      "O produto notebook hp vendeu em 2019: R$154,753 e em 2020: R$539,704. O crescimento foi de 248.8%\n",
      "O produto microsoft surface vendeu em 2019: R$438,508 e em 2020: R$667,179. O crescimento foi de 52.1%\n",
      "O produto webcam vendeu em 2019: R$237,467 e em 2020: R$295,633. O crescimento foi de 24.5%\n",
      "O produto caixa de som vendeu em 2019: R$489,705 e em 2020: R$725,316. O crescimento foi de 48.1%\n",
      "O produto microfone vendeu em 2019: R$328,311 e em 2020: R$644,622. O crescimento foi de 96.3%\n",
      "O produto câmera canon vendeu em 2019: R$591,120 e em 2020: R$994,303. O crescimento foi de 68.2%\n"
     ]
    }
   ],
   "source": [
    "produtos = ['iphone', 'galaxy', 'ipad', 'tv', 'máquina de café', 'kindle', 'geladeira', 'adega', 'notebook dell', 'notebook hp', 'notebook asus', 'microsoft surface', 'webcam', 'caixa de som', 'microfone', 'câmera canon']\n",
    "vendas2019 = [558147,712350,573823,405252,718654,531580,973139,892292,422760,154753,887061,438508,237467,489705,328311,591120]\n",
    "vendas2020 = [951642,244295,26964,787604,867660,78830,710331,646016,694913,539704,324831,667179,295633,725316,644622,994303]\n",
    "#seu código aqui\n",
    "\n",
    "\n",
    "for i, produto in enumerate(produtos):\n",
    "    if vendas2020[i] > vendas2019[i]:\n",
    "        crescimento = (vendas2020[i] / vendas2019[i] - 1)\n",
    "        print('O produto {} vendeu em 2019: R${:,} e em 2020: R${:,}. O crescimento foi de {:.1%}'. format(produto,vendas2019[i],vendas2020[i],crescimento)) \n"
   ]
  }
 ],
 "metadata": {
  "kernelspec": {
   "display_name": "Python 3 (ipykernel)",
   "language": "python",
   "name": "python3"
  },
  "language_info": {
   "codemirror_mode": {
    "name": "ipython",
    "version": 3
   },
   "file_extension": ".py",
   "mimetype": "text/x-python",
   "name": "python",
   "nbconvert_exporter": "python",
   "pygments_lexer": "ipython3",
   "version": "3.9.7"
  }
 },
 "nbformat": 4,
 "nbformat_minor": 4
}
