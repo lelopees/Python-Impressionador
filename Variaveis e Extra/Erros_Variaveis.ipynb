{
 "cells": [
  {
   "cell_type": "code",
   "execution_count": null,
   "id": "bacc4f47",
   "metadata": {},
   "outputs": [],
   "source": [
    "faturamento = 150\n",
    "custo = 60"
   ]
  },
  {
   "cell_type": "code",
   "execution_count": null,
   "id": "e3de409d",
   "metadata": {},
   "outputs": [],
   "source": [
    "lucro = faturamento - custo\n",
    "print(lucro)"
   ]
  },
  {
   "cell_type": "code",
   "execution_count": null,
   "id": "8804dd4b",
   "metadata": {},
   "outputs": [],
   "source": []
  }
 ],
 "metadata": {
  "kernelspec": {
   "display_name": "Python 3 (ipykernel)",
   "language": "python",
   "name": "python3"
  },
  "language_info": {
   "codemirror_mode": {
    "name": "ipython",
    "version": 3
   },
   "file_extension": ".py",
   "mimetype": "text/x-python",
   "name": "python",
   "nbconvert_exporter": "python",
   "pygments_lexer": "ipython3",
   "version": "3.9.7"
  }
 },
 "nbformat": 4,
 "nbformat_minor": 5
}
