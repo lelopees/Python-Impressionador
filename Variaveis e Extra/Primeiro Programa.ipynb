{
 "cells": [
  {
   "cell_type": "markdown",
   "id": "99c3f96a",
   "metadata": {},
   "source": [
    "Meu primeiro Programa, bora pra cima Hashtag!"
   ]
  },
  {
   "cell_type": "code",
   "execution_count": 3,
   "id": "a52e14dd",
   "metadata": {},
   "outputs": [
    {
     "name": "stdout",
     "output_type": "stream",
     "text": [
      "um texto qualquer\n"
     ]
    }
   ],
   "source": [
    "print(\"um texto qualquer\")"
   ]
  },
  {
   "cell_type": "code",
   "execution_count": 3,
   "id": "1bbff428",
   "metadata": {},
   "outputs": [
    {
     "name": "stdout",
     "output_type": "stream",
     "text": [
      "1\n"
     ]
    }
   ],
   "source": [
    "print (7 % 3)"
   ]
  },
  {
   "cell_type": "code",
   "execution_count": 7,
   "id": "e6ca44fe",
   "metadata": {},
   "outputs": [
    {
     "name": "stdout",
     "output_type": "stream",
     "text": [
      "True\n"
     ]
    }
   ],
   "source": [
    "print('L' in 'Leticia')"
   ]
  },
  {
   "cell_type": "code",
   "execution_count": null,
   "id": "7eb6822b",
   "metadata": {},
   "outputs": [],
   "source": []
  }
 ],
 "metadata": {
  "kernelspec": {
   "display_name": "Python 3 (ipykernel)",
   "language": "python",
   "name": "python3"
  },
  "language_info": {
   "codemirror_mode": {
    "name": "ipython",
    "version": 3
   },
   "file_extension": ".py",
   "mimetype": "text/x-python",
   "name": "python",
   "nbconvert_exporter": "python",
   "pygments_lexer": "ipython3",
   "version": "3.9.7"
  }
 },
 "nbformat": 4,
 "nbformat_minor": 5
}
