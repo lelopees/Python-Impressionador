{
 "cells": [
  {
   "cell_type": "markdown",
   "metadata": {},
   "source": [
    "# Adicionar e Remover itens de uma lista\n",
    "\n",
    "Adicionar:<br>\n",
    "lista.append(item)\n",
    "\n",
    "Remover:<br>\n",
    "item_removido = lista.pop(indice)<br>\n",
    "lista.remove(item)\n",
    "\n",
    "Digamos que você está construindo o controle de produtos da Apple.<br>\n",
    "E a Apple lançou o IPhone 11 e irá tirar dos seus estoques o IPhone X"
   ]
  },
  {
   "cell_type": "code",
   "execution_count": 17,
   "metadata": {},
   "outputs": [
    {
     "name": "stdout",
     "output_type": "stream",
     "text": [
      "['apple tv', 'mac', 'iphone x', 'IPad', 'apple watch', 'mac book', 'airpods', 'iphone 12']\n",
      "['apple tv', 'iphone x', 'IPad', 'apple watch', 'mac book', 'airpods', 'iphone 12']\n",
      "['apple tv', 'iphone x', 'IPad', 'mac book', 'airpods', 'iphone 12']\n",
      "Removemos o item apple watch da lista\n",
      "Não existe na lista de produtos\n"
     ]
    }
   ],
   "source": [
    "produtos = ['apple tv', 'mac', 'iphone x', 'IPad', 'apple watch', 'mac book', 'airpods']\n",
    "\n",
    "produtos.append('iphone 12')\n",
    "\n",
    "print(produtos)\n",
    "\n",
    "produtos.remove('mac')\n",
    "\n",
    "print(produtos)\n",
    "item_removido = produtos.pop(3)\n",
    "\n",
    "print(produtos)\n",
    "print('Removemos o item {} da lista'.format(item_removido))\n",
    "\n",
    "if 'ipad' in produtos:\n",
    "    produtos.remove('IPad')\n",
    "    print('Removido')\n",
    "else:\n",
    "    print('Não existe na lista de produtos')"
   ]
  },
  {
   "cell_type": "markdown",
   "metadata": {},
   "source": [
    "## Existem 2 formas de tratar o erro:\n",
    "\n",
    "1. Criar um if para evitar que ele aconteça\n",
    "\n",
    "2. Esperar que ele possa acontecer e tratar caso o erro aconteça com:"
   ]
  },
  {
   "cell_type": "raw",
   "metadata": {},
   "source": [
    "try:\n",
    "    produtos.remove('ipad')\n",
    "except:\n",
    "    print('Não existe na lista')"
   ]
  },
  {
   "cell_type": "code",
   "execution_count": 18,
   "metadata": {},
   "outputs": [
    {
     "name": "stdout",
     "output_type": "stream",
     "text": [
      "Não existe na lista\n"
     ]
    }
   ],
   "source": [
    "try:\n",
    "    produtos.remove('ipad')\n",
    "except:\n",
    "    print('Não existe na lista')"
   ]
  }
 ],
 "metadata": {
  "kernelspec": {
   "display_name": "Python 3 (ipykernel)",
   "language": "python",
   "name": "python3"
  },
  "language_info": {
   "codemirror_mode": {
    "name": "ipython",
    "version": 3
   },
   "file_extension": ".py",
   "mimetype": "text/x-python",
   "name": "python",
   "nbconvert_exporter": "python",
   "pygments_lexer": "ipython3",
   "version": "3.9.7"
  }
 },
 "nbformat": 4,
 "nbformat_minor": 4
}
