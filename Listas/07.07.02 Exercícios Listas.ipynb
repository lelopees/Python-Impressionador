{
 "cells": [
  {
   "cell_type": "markdown",
   "metadata": {},
   "source": [
    "# Exercícios\n",
    "\n",
    "## 1. Faturamento do Melhor e do Pior Mês do Ano\n",
    "\n",
    "Qual foi o valor de vendas do melhor mês do Ano?\n",
    "E valor do pior mês do ano?"
   ]
  },
  {
   "cell_type": "code",
   "execution_count": 46,
   "metadata": {},
   "outputs": [
    {
     "name": "stdout",
     "output_type": "stream",
     "text": [
      "O maior valor foi de 49051 e o menor valor foi de 9650 \n"
     ]
    }
   ],
   "source": [
    "meses = ['jan', 'fev', 'mar', 'abr', 'mai', 'jun', 'jul', 'ago', 'set', 'out', 'nov', 'dez']\n",
    "vendas_1sem = [25000, 29000, 22200, 17750, 15870, 19900]\n",
    "vendas_2sem = [19850, 20120, 17540, 15555, 49051, 9650]\n",
    "\n",
    "#adicionando a lista vendas_2sem na lista vendas_1sem\n",
    "vendas_1sem.extend(vendas_2sem)  \n",
    "\n",
    "maior_v = max(vendas_1sem)\n",
    "menor_v = min(vendas_1sem)\n",
    "\n",
    "print('O maior valor foi de {} e o menor valor foi de {} '.format(maior_v, menor_v))"
   ]
  },
  {
   "cell_type": "markdown",
   "metadata": {},
   "source": [
    "## 2. Continuação\n",
    "\n",
    "Agora relacione as duas listas para printar 'O melhor mês do ano foi {} com {} vendas' e o mesmo para o pior mês do ano.\n",
    "\n",
    "Calcule também o faturamento total do Ano e quanto que o melhor mês representou do faturamento total.\n",
    "\n",
    "Obs: Para o faturamento total, pode usar a função sum(lista) que soma todos os itens de uma lista"
   ]
  },
  {
   "cell_type": "code",
   "execution_count": 37,
   "metadata": {},
   "outputs": [
    {
     "name": "stdout",
     "output_type": "stream",
     "text": [
      "O maior valor foi de R$49,051 e o menor valor foi de R$9,650 \n",
      "O maior faturamento foi no mês de: nov e o menor faturamento foi no mês de: dez\n",
      "O faturamento total do ano foi de: 261486\n",
      "O melhor mês 18.76% das vendas do ano todo\n"
     ]
    }
   ],
   "source": [
    "print('O maior valor foi de R${:,} e o menor valor foi de R${:,} '.format(maior_v, menor_v))\n",
    "\n",
    "ind_maior = vendas_1sem.index(maior_v)\n",
    "ind_menor = vendas_1sem.index(menor_v)\n",
    "\n",
    "print('O maior faturamento foi no mês de: {} e o menor faturamento foi no mês de: {}'.format(meses[ind_maior],meses[ind_menor]))\n",
    "\n",
    "faturamento = sum(vendas_1sem)\n",
    "\n",
    "print('O faturamento total do ano foi de: {}'.format(faturamento))\n",
    "\n",
    "perc = maior_v / faturamento\n",
    "\n",
    "print('O melhor mês {:.2%} das vendas do ano todo'.format(perc))"
   ]
  },
  {
   "cell_type": "markdown",
   "metadata": {},
   "source": [
    "## 3. Crie uma lista com o top 3 valores de vendas do ano (sem fazer \"no olho\")\n",
    "\n",
    "Dica: o método remove retira um item da lista."
   ]
  },
  {
   "cell_type": "code",
   "execution_count": 47,
   "metadata": {},
   "outputs": [
    {
     "name": "stdout",
     "output_type": "stream",
     "text": [
      "[25000, 29000, 22200, 17750, 15870, 19900, 19850, 20120, 17540, 15555, 49051, 9650]\n",
      "[25000, 29000, 22200, 17750, 15870, 19900, 19850, 20120, 17540, 15555, 49051, 9650]\n",
      "[49051]\n",
      "[25000, 29000, 22200, 17750, 15870, 19900, 19850, 20120, 17540, 15555, 49051, 9650]\n",
      "[25000, 29000, 22200, 17750, 15870, 19900, 19850, 20120, 17540, 15555, 49051, 9650]\n",
      "[49051, 29000]\n",
      "[49051, 29000, 25000]\n",
      "[25000, 22200, 17750, 15870, 19900, 19850, 20120, 17540, 15555, 9650]\n",
      "[25000, 22200, 17750, 15870, 19900, 19850, 20120, 17540, 15555, 9650]\n"
     ]
    }
   ],
   "source": [
    "top3 = []\n",
    "\n",
    "copia_vendas = vendas_1sem\n",
    "\n",
    "print(copia_vendas)\n",
    "print(vendas_1sem)\n",
    "\n",
    "maior_v = max(copia_vendas)\n",
    "top3.append(maior_v)\n",
    "print(top3)\n",
    "\n",
    "print(copia_vendas)\n",
    "print(vendas_1sem)\n",
    "\n",
    "copia_vendas.remove(maior_v)\n",
    "maior_v = max(copia_vendas)\n",
    "top3.append(maior_v)\n",
    "print(top3)\n",
    "\n",
    "copia_vendas.remove(maior_v)\n",
    "maior_v = max(copia_vendas)\n",
    "top3.append(maior_v)\n",
    "\n",
    "print(top3)\n",
    "print(copia_vendas)\n",
    "print(vendas_1sem)"
   ]
  }
 ],
 "metadata": {
  "kernelspec": {
   "display_name": "Python 3 (ipykernel)",
   "language": "python",
   "name": "python3"
  },
  "language_info": {
   "codemirror_mode": {
    "name": "ipython",
    "version": 3
   },
   "file_extension": ".py",
   "mimetype": "text/x-python",
   "name": "python",
   "nbconvert_exporter": "python",
   "pygments_lexer": "ipython3",
   "version": "3.9.7"
  }
 },
 "nbformat": 4,
 "nbformat_minor": 4
}
