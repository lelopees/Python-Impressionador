{
 "cells": [
  {
   "cell_type": "code",
   "execution_count": 1,
   "id": "9f827181",
   "metadata": {},
   "outputs": [],
   "source": [
    "import win32com.client as win32\n",
    "\n",
    "# criando uma instancia do outlook\n",
    "outlook = win32.Dispatch('outlook.application')"
   ]
  },
  {
   "cell_type": "code",
   "execution_count": 4,
   "id": "196b10b4",
   "metadata": {},
   "outputs": [],
   "source": [
    "#item.SmtpAddress para informar o remetente do email caso necessário. (houver 2 contas no e-mail ativa)\n",
    "# cria um email\n",
    "mail = outlook.CreateItem(0)\n",
    "mail.To = 'leticia.lopes@gatec.com.br' # destinatario\n",
    "mail.Subject = 'Email vindo do Outlook' # assunto\n",
    "mail.Body = 'Texto do E-mail' # corpo do email\n",
    "\n",
    "#no outlook precisa passar o url do arquivo complet\\a\n",
    "attachment = r'C:\\Users\\leticia.lopes\\Desktop\\Estudos\\Python\\Impressionador\\Integração Email\\Financeiro.xlsx'\n",
    "mail.Attachments.Add(attachment)\n",
    "\n",
    "mail.Send()"
   ]
  }
 ],
 "metadata": {
  "kernelspec": {
   "display_name": "Python 3 (ipykernel)",
   "language": "python",
   "name": "python3"
  },
  "language_info": {
   "codemirror_mode": {
    "name": "ipython",
    "version": 3
   },
   "file_extension": ".py",
   "mimetype": "text/x-python",
   "name": "python",
   "nbconvert_exporter": "python",
   "pygments_lexer": "ipython3",
   "version": "3.9.7"
  }
 },
 "nbformat": 4,
 "nbformat_minor": 5
}
