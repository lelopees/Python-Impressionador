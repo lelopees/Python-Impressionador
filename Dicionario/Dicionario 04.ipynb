{
 "cells": [
  {
   "cell_type": "markdown",
   "metadata": {},
   "source": [
    "# For nos Dicionarios\n",
    "\n",
    "### Estrutura:"
   ]
  },
  {
   "cell_type": "raw",
   "metadata": {},
   "source": [
    "for chave in dicionario:\n",
    "    faça alguma coisa"
   ]
  },
  {
   "cell_type": "code",
   "execution_count": 10,
   "metadata": {},
   "outputs": [
    {
     "name": "stdout",
     "output_type": "stream",
     "text": [
      "Item iphone: valor R$15,000.00\n",
      "Item samsung galaxy: valor R$12,000.00\n",
      "Item tv samsung: valor R$10,000.00\n",
      "Item ps5: valor R$14,300.00\n",
      "Item tablet: valor R$1,720.00\n",
      "Item ipad: valor R$1,000.00\n",
      "Item tv philco: valor R$2,500.00\n",
      "Item notebook hp: valor R$1,000.00\n",
      "Item notebook dell: valor R$17,000.00\n",
      "Item notebook asus: valor R$2,450.00\n"
     ]
    }
   ],
   "source": [
    "vendas_tecnologia = {'iphone': 15000, 'samsung galaxy': 12000, 'tv samsung': 10000, 'ps5': 14300, 'tablet': 1720, 'ipad': 1000, 'tv philco': 2500, 'notebook hp': 1000, 'notebook dell': 17000, 'notebook asus': 2450}\n",
    "\n",
    "#demonstrando o for\n",
    "\n",
    "# é usado a chave\n",
    "\n",
    "for i in vendas_tecnologia:\n",
    "    valor_venda = vendas_tecnologia[i]\n",
    "    print('Item {}: valor R${:,.2f}'.format(i, valor_venda))"
   ]
  },
  {
   "cell_type": "markdown",
   "metadata": {},
   "source": [
    "- Qual o total de notebooks vendidos?"
   ]
  },
  {
   "cell_type": "code",
   "execution_count": 16,
   "metadata": {},
   "outputs": [
    {
     "name": "stdout",
     "output_type": "stream",
     "text": [
      "Item notebook hp: valor R$1,000.00\n",
      "Item notebook dell: valor R$17,000.00\n",
      "Item notebook asus: valor R$2,450.00\n",
      "Total de notebook é de 3\n",
      "Total R$20,450.00\n"
     ]
    }
   ],
   "source": [
    "total_not = 0\n",
    "valor_venda = 0\n",
    "for i in vendas_tecnologia:\n",
    "    if 'notebook' in i:\n",
    "        valor_venda += vendas_tecnologia[i]\n",
    "        total_not += 1\n",
    "        print('Item {}: valor R${:,.2f}'.format(i, vendas_tecnologia[i]))\n",
    "print('Total de notebook é de {}'.format(total_not))\n",
    "print('Total R${:,.2f}'.format(valor_venda))"
   ]
  }
 ],
 "metadata": {
  "kernelspec": {
   "display_name": "Python 3 (ipykernel)",
   "language": "python",
   "name": "python3"
  },
  "language_info": {
   "codemirror_mode": {
    "name": "ipython",
    "version": 3
   },
   "file_extension": ".py",
   "mimetype": "text/x-python",
   "name": "python",
   "nbconvert_exporter": "python",
   "pygments_lexer": "ipython3",
   "version": "3.9.7"
  }
 },
 "nbformat": 4,
 "nbformat_minor": 4
}
