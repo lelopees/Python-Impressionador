{
 "cells": [
  {
   "cell_type": "markdown",
   "metadata": {},
   "source": [
    "# Não confie na ordem dos dicionários, use as chaves\n",
    "\n",
    "### Python Versões Antigas x Versões Novas\n",
    "\n",
    "- Dicionários eram \"sem ordem\". Atualmente tem ordem, mas o certo é usar as chaves\n",
    "- 2 formas de pegar um valor:\n",
    "    - dicionario[chave]\n",
    "    - .get(chave)"
   ]
  },
  {
   "cell_type": "code",
   "execution_count": 1,
   "metadata": {},
   "outputs": [],
   "source": [
    "mais_vendidos = {'tecnologia': 'iphone', 'refrigeracao': 'ar consul 12000 btu', 'livros': 'o alquimista', 'eletrodoméstico': 'geladeira', 'lazer': 'prancha surf'}\n",
    "\n",
    "vendas_tecnologia = {'iphone': 15000, 'samsung galaxy': 12000, 'tv samsung': 10000, 'ps5': 14300, 'tablet': 1720, 'ipad': 1000, 'tv philco': 2500, 'notebook hp': 1000, 'notebook dell': 17000, 'notebook asus': 2450}"
   ]
  },
  {
   "cell_type": "markdown",
   "metadata": {},
   "source": [
    "- Qual foi o item mais vendido nas categorias 'livros' e 'lazer'?\n",
    "- Quanto foi vendido de 'notebook asus' e de 'ipad'?"
   ]
  },
  {
   "cell_type": "code",
   "execution_count": 6,
   "metadata": {},
   "outputs": [
    {
     "name": "stdout",
     "output_type": "stream",
     "text": [
      "O item mais vendido em categoria livros foi: o alquimista\n",
      "O item mais vendido em categoria livros foi: o alquimista\n",
      "O item mais vendido em categoria lazer foi: prancha surf\n",
      "O item mais vendido em categoria livros foi: prancha surf\n",
      "Foram vendidos 2450 de notebook asus\n",
      "Foram vendidos 2450 de notebook asus\n",
      "Foram vendidos 1000 de ipad\n",
      "Foram vendidos 1000 de ipad\n"
     ]
    }
   ],
   "source": [
    "# respondendo com o método get\n",
    "print('O item mais vendido em categoria livros foi: {}'.format(mais_vendidos.get('livros')))\n",
    "print('O item mais vendido em categoria livros foi: {}'.format(mais_vendidos['livros']))\n",
    "\n",
    "print('O item mais vendido em categoria lazer foi: {}'.format(mais_vendidos.get('lazer')))\n",
    "print('O item mais vendido em categoria livros foi: {}'.format(mais_vendidos['lazer']))\n",
    "\n",
    "print('Foram vendidos {} de notebook asus'.format(vendas_tecnologia.get('notebook asus')))\n",
    "print('Foram vendidos {} de notebook asus'.format(vendas_tecnologia['notebook asus']))\n",
    "\n",
    "print('Foram vendidos {} de ipad'.format(vendas_tecnologia.get('ipad')))\n",
    "print('Foram vendidos {} de ipad'.format(vendas_tecnologia['ipad']))"
   ]
  },
  {
   "cell_type": "markdown",
   "metadata": {},
   "source": [
    "### Verificar se item está no dicionário:\n",
    "\n",
    "- if\n",
    "- .get(chave) = None\n",
    "\n",
    "Se tentarmos procurar as vendas de \"copo\" na lista de vendas tecnologia, o que acontece?"
   ]
  },
  {
   "cell_type": "code",
   "execution_count": 10,
   "metadata": {},
   "outputs": [
    {
     "name": "stdout",
     "output_type": "stream",
     "text": [
      "NÃO encontrado na lista\n",
      "NÃO encontrado na lista\n"
     ]
    }
   ],
   "source": [
    "if 'copo' in vendas_tecnologia:\n",
    "    print('Encontrado na lista {}', format(vendas_tecnologia['copo']))\n",
    "else:\n",
    "    print('NÃO encontrado na lista')\n",
    "    \n",
    "    \n",
    "if vendas_tecnologia.get('copo') == None:\n",
    "     print('NÃO encontrado na lista')\n",
    "else:\n",
    "     print('Encontrado na lista {}', format(vendas_tecnologia.get('copo')))"
   ]
  }
 ],
 "metadata": {
  "kernelspec": {
   "display_name": "Python 3 (ipykernel)",
   "language": "python",
   "name": "python3"
  },
  "language_info": {
   "codemirror_mode": {
    "name": "ipython",
    "version": 3
   },
   "file_extension": ".py",
   "mimetype": "text/x-python",
   "name": "python",
   "nbconvert_exporter": "python",
   "pygments_lexer": "ipython3",
   "version": "3.9.7"
  }
 },
 "nbformat": 4,
 "nbformat_minor": 4
}
