{
 "cells": [
  {
   "cell_type": "markdown",
   "metadata": {},
   "source": [
    "# Exceções e Erros em Funções\n",
    "\n",
    "### Como \"testar\" erros e tratar exceções:"
   ]
  },
  {
   "cell_type": "raw",
   "metadata": {},
   "source": [
    "try:\n",
    "    o que eu quero tentar fazer\n",
    "except:\n",
    "    o que vou fazer caso dê erro"
   ]
  },
  {
   "cell_type": "code",
   "execution_count": 14,
   "metadata": {},
   "outputs": [],
   "source": [
    "def descobrir_servidor(email):\n",
    "    try:\n",
    "        posicao_a = email.index('@')\n",
    "        servidor = email[posicao_a:]\n",
    "        if 'gmail' in servidor:\n",
    "            return 'gmail'\n",
    "        elif 'hotmail' in servidor or 'outlook' in servidor or 'live' in servidor:\n",
    "            return 'hotmail'\n",
    "        elif 'yahoo' in servidor:\n",
    "            return 'yahoo'\n",
    "        elif 'uol' in servidor or 'bol' in servidor:\n",
    "            return 'uol'\n",
    "        else:\n",
    "            return 'não determinado'\n",
    "    except:\n",
    "        raise Exception('Email digitado não tem @, digite novamente')\n",
    "    "
   ]
  },
  {
   "cell_type": "code",
   "execution_count": 15,
   "metadata": {},
   "outputs": [
    {
     "name": "stdout",
     "output_type": "stream",
     "text": [
      "Qual o seu e-mail?lelopn\n"
     ]
    },
    {
     "ename": "Exception",
     "evalue": "Email digitado não tem @, digite novamente",
     "output_type": "error",
     "traceback": [
      "\u001b[1;31m---------------------------------------------------------------------------\u001b[0m",
      "\u001b[1;31mValueError\u001b[0m                                Traceback (most recent call last)",
      "\u001b[1;32mC:\\Users\\LETICI~1.LOP\\AppData\\Local\\Temp/ipykernel_58296/4250916844.py\u001b[0m in \u001b[0;36mdescobrir_servidor\u001b[1;34m(email)\u001b[0m\n\u001b[0;32m      2\u001b[0m     \u001b[1;32mtry\u001b[0m\u001b[1;33m:\u001b[0m\u001b[1;33m\u001b[0m\u001b[1;33m\u001b[0m\u001b[0m\n\u001b[1;32m----> 3\u001b[1;33m         \u001b[0mposicao_a\u001b[0m \u001b[1;33m=\u001b[0m \u001b[0memail\u001b[0m\u001b[1;33m.\u001b[0m\u001b[0mindex\u001b[0m\u001b[1;33m(\u001b[0m\u001b[1;34m'@'\u001b[0m\u001b[1;33m)\u001b[0m\u001b[1;33m\u001b[0m\u001b[1;33m\u001b[0m\u001b[0m\n\u001b[0m\u001b[0;32m      4\u001b[0m         \u001b[0mservidor\u001b[0m \u001b[1;33m=\u001b[0m \u001b[0memail\u001b[0m\u001b[1;33m[\u001b[0m\u001b[0mposicao_a\u001b[0m\u001b[1;33m:\u001b[0m\u001b[1;33m]\u001b[0m\u001b[1;33m\u001b[0m\u001b[1;33m\u001b[0m\u001b[0m\n",
      "\u001b[1;31mValueError\u001b[0m: substring not found",
      "\nDuring handling of the above exception, another exception occurred:\n",
      "\u001b[1;31mException\u001b[0m                                 Traceback (most recent call last)",
      "\u001b[1;32mC:\\Users\\LETICI~1.LOP\\AppData\\Local\\Temp/ipykernel_58296/3062461173.py\u001b[0m in \u001b[0;36m<module>\u001b[1;34m\u001b[0m\n\u001b[0;32m      1\u001b[0m \u001b[0memail\u001b[0m \u001b[1;33m=\u001b[0m \u001b[0minput\u001b[0m\u001b[1;33m(\u001b[0m\u001b[1;34m'Qual o seu e-mail?'\u001b[0m\u001b[1;33m)\u001b[0m\u001b[1;33m\u001b[0m\u001b[1;33m\u001b[0m\u001b[0m\n\u001b[1;32m----> 2\u001b[1;33m \u001b[0mprint\u001b[0m\u001b[1;33m(\u001b[0m\u001b[0mdescobrir_servidor\u001b[0m\u001b[1;33m(\u001b[0m\u001b[0memail\u001b[0m\u001b[1;33m)\u001b[0m\u001b[1;33m)\u001b[0m\u001b[1;33m\u001b[0m\u001b[1;33m\u001b[0m\u001b[0m\n\u001b[0m",
      "\u001b[1;32mC:\\Users\\LETICI~1.LOP\\AppData\\Local\\Temp/ipykernel_58296/4250916844.py\u001b[0m in \u001b[0;36mdescobrir_servidor\u001b[1;34m(email)\u001b[0m\n\u001b[0;32m     14\u001b[0m             \u001b[1;32mreturn\u001b[0m \u001b[1;34m'não determinado'\u001b[0m\u001b[1;33m\u001b[0m\u001b[1;33m\u001b[0m\u001b[0m\n\u001b[0;32m     15\u001b[0m     \u001b[1;32mexcept\u001b[0m\u001b[1;33m:\u001b[0m\u001b[1;33m\u001b[0m\u001b[1;33m\u001b[0m\u001b[0m\n\u001b[1;32m---> 16\u001b[1;33m         \u001b[1;32mraise\u001b[0m \u001b[0mException\u001b[0m\u001b[1;33m(\u001b[0m\u001b[1;34m'Email digitado não tem @, digite novamente'\u001b[0m\u001b[1;33m)\u001b[0m\u001b[1;33m\u001b[0m\u001b[1;33m\u001b[0m\u001b[0m\n\u001b[0m\u001b[0;32m     17\u001b[0m \u001b[1;33m\u001b[0m\u001b[0m\n",
      "\u001b[1;31mException\u001b[0m: Email digitado não tem @, digite novamente"
     ]
    }
   ],
   "source": [
    "email = input('Qual o seu e-mail?')\n",
    "print(descobrir_servidor(email))\n"
   ]
  },
  {
   "cell_type": "markdown",
   "metadata": {},
   "source": [
    "- Cuidado: uma vez dentro do try, qualquer erro vai levar ao except"
   ]
  },
  {
   "cell_type": "markdown",
   "metadata": {},
   "source": [
    "### Como \"printar\" um erro em uma function"
   ]
  },
  {
   "cell_type": "raw",
   "metadata": {},
   "source": [
    "raise Exception('O erro foi esse')\n",
    "\n",
    "ou então avisando qual o tipo de erro que ele teve\n",
    "\n",
    "raise TypeError('O erro foi esse')\n",
    "raise ValueError('O erro foi esse')\n",
    "raise ZeroDivisionError('O erro foi esse')"
   ]
  },
  {
   "cell_type": "code",
   "execution_count": null,
   "metadata": {},
   "outputs": [],
   "source": [
    "def descobrir_servidor(email):\n",
    "    posicao_a = email.index('@')\n",
    "    servidor = email[posicao_a:]\n",
    "    if 'gmail' in servidor:\n",
    "        return 'gmail'\n",
    "    elif 'hotmail' in servidor or 'outlook' in servidor or 'live' in servidor:\n",
    "        return 'hotmail'\n",
    "    elif 'yahoo' in servidor:\n",
    "        return 'yahoo'\n",
    "    elif 'uol' in servidor or 'bol' in servidor:\n",
    "        return 'uol'\n",
    "    else:\n",
    "        return 'não determinado'"
   ]
  },
  {
   "cell_type": "markdown",
   "metadata": {},
   "source": [
    "### Tratamento Completo:"
   ]
  },
  {
   "cell_type": "raw",
   "metadata": {},
   "source": [
    "try:\n",
    "    tente fazer isso\n",
    "except ErroEspecífico:\n",
    "    deu esse erro aqui que era esperado \n",
    "else:\n",
    "    caso não dê o erro esperado, rode isso.\n",
    "finally:\n",
    "    independente do que acontecer, faça isso."
   ]
  },
  {
   "cell_type": "code",
   "execution_count": null,
   "metadata": {},
   "outputs": [],
   "source": []
  }
 ],
 "metadata": {
  "kernelspec": {
   "display_name": "Python 3 (ipykernel)",
   "language": "python",
   "name": "python3"
  },
  "language_info": {
   "codemirror_mode": {
    "name": "ipython",
    "version": 3
   },
   "file_extension": ".py",
   "mimetype": "text/x-python",
   "name": "python",
   "nbconvert_exporter": "python",
   "pygments_lexer": "ipython3",
   "version": "3.9.7"
  }
 },
 "nbformat": 4,
 "nbformat_minor": 4
}
